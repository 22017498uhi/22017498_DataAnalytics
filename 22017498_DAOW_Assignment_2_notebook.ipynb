{
  "nbformat": 4,
  "nbformat_minor": 0,
  "metadata": {
    "colab": {
      "provenance": []
    },
    "kernelspec": {
      "name": "python3",
      "display_name": "Python 3"
    },
    "language_info": {
      "name": "python"
    }
  },
  "cells": [
    {
      "cell_type": "markdown",
      "source": [
        "# Data Analytics On the Web - Assignment 2\n",
        "\n",
        "# Introduction\n",
        "This document tries to solve problem related to predicting vehicle collisions in New York based on the weather on a particular day. We are solving this prediction problem using linear regression and DNN (Deep neural network) models. The CSV data prepared as part of Assignment 1 is utilized for this.\n",
        "\n"
      ],
      "metadata": {
        "id": "EJPyqUlD0iN-"
      }
    },
    {
      "cell_type": "markdown",
      "source": [
        "# Methodology\n",
        "This section provides overview of what linear regression and DNN models are and then builds these 2 models for the vehicle collisions and weather data.\n",
        "\n",
        "**Data for the prediction models**\n",
        "\n",
        "Before we look into the prediction models, let's look into the data that we are going use.\n",
        "\n",
        "To train these machine learning models, we will need to feed one set of data and then to test the accuracy/prediction, we will need set of test data.\n",
        "To achieve this, we have removed few rows randomly from the main file and created as separate file which contains these testing rows. This is done for both linear and DNN data.\n",
        "\n",
        "Below are the data files we will be using. All these files are hosted on GitHub.\n",
        "\n",
        "\n",
        "*   Assignment_2_lineardata_train.csv --> This contains training data for linear regression.\n",
        "*   Assignment_2_lineardata_train.csv --> This contains testing data for linear regression.\n",
        "*   Assignment_2_dnndata_train.csv --> This contains training data for DNN regression.\n",
        "*   Assignment_2_dnndata_test.csv --> This contains testing data for DNN regression.\n",
        "\n",
        "---\n",
        "\n",
        "**Linear Regression Models**\n",
        "\n",
        "Linear regression is a data analysis technique that predicts the value of unknown data by using another related and known data value. It mathematically models the unknown or dependent variable and the known or independent variable as a linear equation(AWS).\n",
        "\n",
        "At its core, a simple linear regression technique attempts to plot a line graph between two data variables, x and y. Here X is called predictor/input and Y is the predicted value/output.\n",
        "\n",
        "First, we will be importing our training data using pandas library.\n",
        "\n",
        "Pandas is a Python package providing fast, flexible, and expressive data structures designed to make working with structured (tabular, multidimensional, potentially heterogeneous) and time series data both easy and intuitive. It aims to be the fundamental high-level building block for doing practical, real world data analysis in Python."
      ],
      "metadata": {
        "id": "d5kej7ng1Ygs"
      }
    },
    {
      "cell_type": "code",
      "execution_count": null,
      "metadata": {
        "id": "YJ6iXDNJy3ip"
      },
      "outputs": [],
      "source": [
        "# Import pandas\n",
        "import pandas as pd\n",
        "\n",
        "# create data frame from csv file we hosted on our github\n",
        "df = pd.read_csv('https://raw.githubusercontent.com/22017498uhi/22017498_DataAnalytics/main/Assignment_2_lineardata_train.csv', index_col=0, )"
      ]
    },
    {
      "cell_type": "markdown",
      "source": [
        "Below we are verifying that data can be read successfully from here."
      ],
      "metadata": {
        "id": "rt61wwNGBdG7"
      }
    },
    {
      "cell_type": "code",
      "source": [
        "# make sure we have our data by printing it out\n",
        "print(df[:6])\n",
        "# print(df) #all"
      ],
      "metadata": {
        "colab": {
          "base_uri": "https://localhost:8080/"
        },
        "id": "P1odiLVtBkmU",
        "outputId": "07fb055b-05cd-4084-8c22-fa8e947e3d2c"
      },
      "execution_count": null,
      "outputs": [
        {
          "output_type": "stream",
          "name": "stdout",
          "text": [
            "   day  temp  dewp  wdsp  NUM_COLLISIONS\n",
            "1    1  83.6  63.0   4.1        0.479769\n",
            "2    3  80.3  54.1   3.8        0.554913\n",
            "3    4  79.8  56.7   2.9        0.843931\n",
            "4    5  81.8  65.6   3.6        0.173410\n",
            "5    6  86.7  64.3   3.8        0.632948\n",
            "6    7  81.9  62.3   3.1        0.768786\n"
          ]
        }
      ]
    },
    {
      "cell_type": "markdown",
      "source": [
        "Next step is to import Python module named \"NumPy\" which helps in performing various mathematical calculations efficiently."
      ],
      "metadata": {
        "id": "fhQG2fW9Bmu4"
      }
    },
    {
      "cell_type": "code",
      "source": [
        "# needed to help with speedy maths based calculations\n",
        "import numpy as np\n"
      ],
      "metadata": {
        "id": "l7TtI1jrBmbQ"
      },
      "execution_count": null,
      "outputs": []
    },
    {
      "cell_type": "markdown",
      "source": [
        "Since our collisions are already normalized, we don't need to define any scale factor here.\n",
        "\n",
        "Next, we are importing tensor flow and checking its version details. As we can see below, we are running version 2.9.2 of tensor flow."
      ],
      "metadata": {
        "id": "eTj1ODb4B82E"
      }
    },
    {
      "cell_type": "code",
      "source": [
        "import tensorflow as tf\n",
        "\n",
        "from tensorflow import keras\n",
        "from tensorflow.keras import layers\n",
        "\n",
        "print(tf.__version__)"
      ],
      "metadata": {
        "colab": {
          "base_uri": "https://localhost:8080/"
        },
        "id": "iBRmEXYtCt7_",
        "outputId": "64166c15-0060-4a8d-b2ee-d4fa8865137a"
      },
      "execution_count": null,
      "outputs": [
        {
          "output_type": "stream",
          "name": "stdout",
          "text": [
            "2.9.2\n"
          ]
        }
      ]
    },
    {
      "cell_type": "markdown",
      "source": [
        "Now we are preparing a dataframe which contains all required input columns.\n",
        "By defining columns like this, it becomes easier in future to add or remove any columns for creating new models with different inputs."
      ],
      "metadata": {
        "id": "aSFTMFlVC3U5"
      }
    },
    {
      "cell_type": "code",
      "source": [
        "# Create a dataframe with the required inputs from above inported dataframe. \n",
        "df_input_data = [df[\"day\"], df[\"temp\"],df[\"dewp\"], df[\"wdsp\"], df[\"NUM_COLLISIONS\"]] \n",
        "# create headers for our new dataframe. These should correlate with the above.\n",
        "df_input_headers = [\"day\", \"temp\",\"dewp\", \"wdsp\", \"NUM_COLLISIONS\"] \n",
        "# create a final dataframe using our new dataframe and headers. \n",
        "df_input = pd.concat(df_input_data, axis=1, keys=df_input_headers) "
      ],
      "metadata": {
        "id": "ktYarAYLDMl5"
      },
      "execution_count": null,
      "outputs": []
    },
    {
      "cell_type": "markdown",
      "source": [
        "Next, we are splitting the dataset. 80% of the data will be used for training the model and 20% will be used for validation."
      ],
      "metadata": {
        "id": "OMFXlODbEWjF"
      }
    },
    {
      "cell_type": "code",
      "source": [
        "# split the dataset. 80% for training and 20% for validation.\n",
        "training_set = df_input.sample(frac=0.8, random_state=0)\n",
        "test_set = df_input.drop(training_set.index)"
      ],
      "metadata": {
        "id": "oumYkxavEYxa"
      },
      "execution_count": null,
      "outputs": []
    },
    {
      "cell_type": "markdown",
      "source": [
        "Next, we are removing our output column \"NUM_COLLISIONS\" since this is something model needs to predict, therefore, we won't be passing this into the model as input."
      ],
      "metadata": {
        "id": "UdBwahRqEuXS"
      }
    },
    {
      "cell_type": "code",
      "source": [
        "# copy the datasets and remove the final column, i.e. the output column. We do this using pop.\n",
        "training_features = training_set.copy()\n",
        "test_features = test_set.copy()\n",
        "\n",
        "training_labels = training_features.pop('NUM_COLLISIONS')\n",
        "test_labels = test_features.pop('NUM_COLLISIONS')"
      ],
      "metadata": {
        "id": "AD6z_KzzEtqE"
      },
      "execution_count": null,
      "outputs": []
    },
    {
      "cell_type": "markdown",
      "source": [
        "Below we are confirming that output column is removed."
      ],
      "metadata": {
        "id": "ouMlTdIZFeOe"
      }
    },
    {
      "cell_type": "code",
      "source": [
        "print(training_features[:6])"
      ],
      "metadata": {
        "colab": {
          "base_uri": "https://localhost:8080/"
        },
        "id": "ugKoGNFrFMCs",
        "outputId": "6682c67f-3a6a-4ea2-b568-a1d92b17a1e3"
      },
      "execution_count": null,
      "outputs": [
        {
          "output_type": "stream",
          "name": "stdout",
          "text": [
            "      day  temp  dewp  wdsp\n",
            "2417    3  30.7  14.4   8.1\n",
            "1776    6  49.5  42.0   7.6\n",
            "1741    6  41.9  38.5  12.9\n",
            "1387    1  45.8  36.5  15.4\n",
            "2673    7  55.9  51.1   6.0\n",
            "472     4  53.9  47.3   6.3\n"
          ]
        }
      ]
    },
    {
      "cell_type": "markdown",
      "source": [
        "Next, we are defining the normalization layer. Here we are passing the input columns."
      ],
      "metadata": {
        "id": "Uup8-RbEFiUm"
      }
    },
    {
      "cell_type": "code",
      "source": [
        "# boiler plate for this model. You can see that we have used the training_features here for our normalisation layer that we try and fit to the outputs.\n",
        "normaliser = tf.keras.layers.Normalization(axis=-1)\n",
        "normaliser.adapt(np.array(training_features))"
      ],
      "metadata": {
        "id": "eU7rJQKJFvKh"
      },
      "execution_count": null,
      "outputs": []
    },
    {
      "cell_type": "markdown",
      "source": [
        "Below are utilizing Keras API of TensorFlow and using its \"Sequential\" model for our linear regression.\n",
        "\n",
        "Keras is a high-level, deep learning API developed by Google for implementing neural networks. It is written in Python and is used to make the implementation of neural networks easy.\n",
        "\n",
        "Above description says that it is used for building neural networks, but we can use it for our linear regression as well. The way we achieve this is by passing only 1 layer to it. When we define only 1 layer, it becomes a linear regression as there is a direct relation between input and outputs without any middle/hidden layers.\n",
        "\n",
        "When we define more than 1 layers, it becomes a DNN model. Hence, it's very easy to build both linear and DNN models using Keras API.\n"
      ],
      "metadata": {
        "id": "WU-HpU8wFzgZ"
      }
    },
    {
      "cell_type": "code",
      "source": [
        "#  we are defining our linear model with one layer and one expected output using keras API.\n",
        "collisions_linear_model = tf.keras.Sequential([\n",
        "    normaliser,\n",
        "    layers.Dense(units=1)\n",
        "])"
      ],
      "metadata": {
        "id": "sPoqJluQF93r"
      },
      "execution_count": null,
      "outputs": []
    },
    {
      "cell_type": "markdown",
      "source": [
        "Next step is to compile our model. Here we are defining below 2 important things.\n",
        "\n",
        "**Optimizer**\n",
        "\n",
        "Here we are using \"Adam\" optimizer.\n",
        "\n",
        "Adam (Adaptive Moment Estimation) is an algorithm for optimization technique for gradient descent. The method is efficient when working with large problem involving a lot of data or parameters. It requires less memory and is efficient. Intuitively, it is a combination of the ‘gradient descent with momentum’ algorithm and the ‘RMSP’ algorithm(prakharr0y ).\n",
        "\n",
        "Here we are passing learning rate of 0.1. This is very critical parameter for training the models. Expectation here is that loss value must decrease as model trains on the data. If loss value fluctuates then it's not a good sign for the model, to overcome this, we can decrease the learning rate (for example 0.01 or 0.001).\n",
        "\n",
        "**Loss calculation method**\n",
        "\n",
        "Here we are using \"Mean Absolute Error\" to calculate the loss. For linear regression this basically calculates, how far the predicated value is from the ideal line/expected value. As model trains on the data, if loss gradually decreases to a lower value, this generally indicates a good model.\n"
      ],
      "metadata": {
        "id": "v1Yj_1YSHada"
      }
    },
    {
      "cell_type": "code",
      "source": [
        "# compile the sequential model, define optimiser and loss parameter.\n",
        "collisions_linear_model.compile(\n",
        "    optimizer=tf.optimizers.Adam(learning_rate=0.1),\n",
        "    loss='mean_absolute_error')"
      ],
      "metadata": {
        "id": "0EPU50z4Hiqv"
      },
      "execution_count": null,
      "outputs": []
    },
    {
      "cell_type": "markdown",
      "source": [
        "Below we are training the model. Here we are passing the input columns data and running it 100 times (epochs).\n",
        "\n",
        "**epochs**\n",
        "\n",
        "An epoch in machine learning means one complete pass of the training dataset through the algorithm. This epoch’s number is an important hyperparameter for the algorithm. It specifies the number of epochs or complete passes of the entire training dataset passing through the training or learning process of the algorithm. With each epoch, the dataset’s internal model parameters are updated.\n",
        "\n",
        "In simple words, it is like a for loop, going through the complete training data 100 times and trying to get better on each iteration (loss decreases).\n",
        "\n",
        "This is very similar to how humans learn, if we are learning something then the more, we practise, the better we get, the same concept is applied here.\n",
        "\n",
        "Another thing is we have defined validation_split as 0.2, this means that training data is split further into 80%/20% ratio, basically, during each iteration, model uses this 20% validation data to see how actuate it is and adjusts its parameter to get better during next iterations."
      ],
      "metadata": {
        "id": "tRjOtgflKOLj"
      }
    },
    {
      "cell_type": "code",
      "source": [
        "# now we are going to fit the model where we require the training features and labels. We will run it 100 times i.e. epochs and we have applied a further 20% validation split. \n",
        "\n",
        "%%time\n",
        "history = collisions_linear_model.fit(\n",
        "    training_features,\n",
        "    training_labels,\n",
        "    epochs=100,\n",
        "    verbose=1,\n",
        "    validation_split = 0.2)"
      ],
      "metadata": {
        "colab": {
          "base_uri": "https://localhost:8080/"
        },
        "id": "Re4nS95bKiQl",
        "outputId": "6bbb935b-d5a7-4411-faa2-959201ec0716"
      },
      "execution_count": null,
      "outputs": [
        {
          "output_type": "stream",
          "name": "stdout",
          "text": [
            "Epoch 1/100\n",
            "53/53 [==============================] - 1s 6ms/step - loss: 0.2466 - val_loss: 0.1936\n",
            "Epoch 2/100\n",
            "53/53 [==============================] - 0s 3ms/step - loss: 0.1489 - val_loss: 0.1667\n",
            "Epoch 3/100\n",
            "53/53 [==============================] - 0s 3ms/step - loss: 0.1496 - val_loss: 0.1730\n",
            "Epoch 4/100\n",
            "53/53 [==============================] - 0s 3ms/step - loss: 0.1503 - val_loss: 0.1654\n",
            "Epoch 5/100\n",
            "53/53 [==============================] - 0s 3ms/step - loss: 0.1450 - val_loss: 0.1884\n",
            "Epoch 6/100\n",
            "53/53 [==============================] - 0s 3ms/step - loss: 0.1515 - val_loss: 0.1603\n",
            "Epoch 7/100\n",
            "53/53 [==============================] - 0s 3ms/step - loss: 0.1480 - val_loss: 0.1588\n",
            "Epoch 8/100\n",
            "53/53 [==============================] - 0s 3ms/step - loss: 0.1508 - val_loss: 0.1774\n",
            "Epoch 9/100\n",
            "53/53 [==============================] - 0s 4ms/step - loss: 0.1503 - val_loss: 0.1664\n",
            "Epoch 10/100\n",
            "53/53 [==============================] - 0s 3ms/step - loss: 0.1516 - val_loss: 0.1528\n",
            "Epoch 11/100\n",
            "53/53 [==============================] - 0s 3ms/step - loss: 0.1499 - val_loss: 0.1575\n",
            "Epoch 12/100\n",
            "53/53 [==============================] - 0s 2ms/step - loss: 0.1564 - val_loss: 0.1858\n",
            "Epoch 13/100\n",
            "53/53 [==============================] - 0s 3ms/step - loss: 0.1512 - val_loss: 0.1588\n",
            "Epoch 14/100\n",
            "53/53 [==============================] - 0s 3ms/step - loss: 0.1450 - val_loss: 0.1617\n",
            "Epoch 15/100\n",
            "53/53 [==============================] - 0s 3ms/step - loss: 0.1542 - val_loss: 0.1656\n",
            "Epoch 16/100\n",
            "53/53 [==============================] - 0s 3ms/step - loss: 0.1477 - val_loss: 0.1668\n",
            "Epoch 17/100\n",
            "53/53 [==============================] - 0s 3ms/step - loss: 0.1477 - val_loss: 0.1631\n",
            "Epoch 18/100\n",
            "53/53 [==============================] - 0s 3ms/step - loss: 0.1512 - val_loss: 0.1665\n",
            "Epoch 19/100\n",
            "53/53 [==============================] - 0s 3ms/step - loss: 0.1526 - val_loss: 0.1835\n",
            "Epoch 20/100\n",
            "53/53 [==============================] - 0s 3ms/step - loss: 0.1536 - val_loss: 0.1831\n",
            "Epoch 21/100\n",
            "53/53 [==============================] - 0s 3ms/step - loss: 0.1536 - val_loss: 0.1551\n",
            "Epoch 22/100\n",
            "53/53 [==============================] - 0s 3ms/step - loss: 0.1522 - val_loss: 0.1549\n",
            "Epoch 23/100\n",
            "53/53 [==============================] - 0s 3ms/step - loss: 0.1508 - val_loss: 0.1646\n",
            "Epoch 24/100\n",
            "53/53 [==============================] - 0s 3ms/step - loss: 0.1504 - val_loss: 0.1664\n",
            "Epoch 25/100\n",
            "53/53 [==============================] - 0s 3ms/step - loss: 0.1456 - val_loss: 0.1885\n",
            "Epoch 26/100\n",
            "53/53 [==============================] - 0s 2ms/step - loss: 0.1557 - val_loss: 0.1680\n",
            "Epoch 27/100\n",
            "53/53 [==============================] - 0s 2ms/step - loss: 0.1459 - val_loss: 0.1756\n",
            "Epoch 28/100\n",
            "53/53 [==============================] - 0s 2ms/step - loss: 0.1503 - val_loss: 0.1674\n",
            "Epoch 29/100\n",
            "53/53 [==============================] - 0s 3ms/step - loss: 0.1539 - val_loss: 0.1824\n",
            "Epoch 30/100\n",
            "53/53 [==============================] - 0s 4ms/step - loss: 0.1537 - val_loss: 0.1519\n",
            "Epoch 31/100\n",
            "53/53 [==============================] - 0s 3ms/step - loss: 0.1533 - val_loss: 0.1695\n",
            "Epoch 32/100\n",
            "53/53 [==============================] - 0s 3ms/step - loss: 0.1581 - val_loss: 0.2011\n",
            "Epoch 33/100\n",
            "53/53 [==============================] - 0s 3ms/step - loss: 0.1543 - val_loss: 0.1595\n",
            "Epoch 34/100\n",
            "53/53 [==============================] - 0s 3ms/step - loss: 0.1435 - val_loss: 0.1547\n",
            "Epoch 35/100\n",
            "53/53 [==============================] - 0s 3ms/step - loss: 0.1563 - val_loss: 0.1817\n",
            "Epoch 36/100\n",
            "53/53 [==============================] - 0s 3ms/step - loss: 0.1475 - val_loss: 0.1756\n",
            "Epoch 37/100\n",
            "53/53 [==============================] - 0s 3ms/step - loss: 0.1578 - val_loss: 0.1909\n",
            "Epoch 38/100\n",
            "53/53 [==============================] - 0s 3ms/step - loss: 0.1456 - val_loss: 0.1782\n",
            "Epoch 39/100\n",
            "53/53 [==============================] - 0s 3ms/step - loss: 0.1505 - val_loss: 0.1949\n",
            "Epoch 40/100\n",
            "53/53 [==============================] - 0s 3ms/step - loss: 0.1500 - val_loss: 0.1684\n",
            "Epoch 41/100\n",
            "53/53 [==============================] - 0s 3ms/step - loss: 0.1457 - val_loss: 0.1589\n",
            "Epoch 42/100\n",
            "53/53 [==============================] - 0s 3ms/step - loss: 0.1499 - val_loss: 0.1753\n",
            "Epoch 43/100\n",
            "53/53 [==============================] - 0s 3ms/step - loss: 0.1509 - val_loss: 0.1889\n",
            "Epoch 44/100\n",
            "53/53 [==============================] - 0s 3ms/step - loss: 0.1539 - val_loss: 0.1804\n",
            "Epoch 45/100\n",
            "53/53 [==============================] - 0s 3ms/step - loss: 0.1521 - val_loss: 0.1923\n",
            "Epoch 46/100\n",
            "53/53 [==============================] - 0s 2ms/step - loss: 0.1607 - val_loss: 0.1886\n",
            "Epoch 47/100\n",
            "53/53 [==============================] - 0s 2ms/step - loss: 0.1596 - val_loss: 0.1729\n",
            "Epoch 48/100\n",
            "53/53 [==============================] - 0s 3ms/step - loss: 0.1517 - val_loss: 0.1599\n",
            "Epoch 49/100\n",
            "53/53 [==============================] - 0s 3ms/step - loss: 0.1636 - val_loss: 0.1814\n",
            "Epoch 50/100\n",
            "53/53 [==============================] - 0s 3ms/step - loss: 0.1529 - val_loss: 0.1782\n",
            "Epoch 51/100\n",
            "53/53 [==============================] - 0s 2ms/step - loss: 0.1502 - val_loss: 0.1658\n",
            "Epoch 52/100\n",
            "53/53 [==============================] - 0s 2ms/step - loss: 0.1489 - val_loss: 0.1814\n",
            "Epoch 53/100\n",
            "53/53 [==============================] - 0s 3ms/step - loss: 0.1509 - val_loss: 0.2242\n",
            "Epoch 54/100\n",
            "53/53 [==============================] - 0s 3ms/step - loss: 0.1686 - val_loss: 0.2368\n",
            "Epoch 55/100\n",
            "53/53 [==============================] - 0s 2ms/step - loss: 0.1693 - val_loss: 0.1684\n",
            "Epoch 56/100\n",
            "53/53 [==============================] - 0s 3ms/step - loss: 0.1555 - val_loss: 0.1793\n",
            "Epoch 57/100\n",
            "53/53 [==============================] - 0s 2ms/step - loss: 0.1594 - val_loss: 0.1685\n",
            "Epoch 58/100\n",
            "53/53 [==============================] - 0s 2ms/step - loss: 0.1485 - val_loss: 0.1584\n",
            "Epoch 59/100\n",
            "53/53 [==============================] - 0s 3ms/step - loss: 0.1571 - val_loss: 0.1864\n",
            "Epoch 60/100\n",
            "53/53 [==============================] - 0s 3ms/step - loss: 0.1540 - val_loss: 0.1914\n",
            "Epoch 61/100\n",
            "53/53 [==============================] - 0s 3ms/step - loss: 0.1591 - val_loss: 0.1805\n",
            "Epoch 62/100\n",
            "53/53 [==============================] - 0s 3ms/step - loss: 0.1548 - val_loss: 0.1612\n",
            "Epoch 63/100\n",
            "53/53 [==============================] - 0s 3ms/step - loss: 0.1530 - val_loss: 0.1839\n",
            "Epoch 64/100\n",
            "53/53 [==============================] - 0s 3ms/step - loss: 0.1486 - val_loss: 0.1613\n",
            "Epoch 65/100\n",
            "53/53 [==============================] - 0s 3ms/step - loss: 0.1486 - val_loss: 0.1717\n",
            "Epoch 66/100\n",
            "53/53 [==============================] - 0s 2ms/step - loss: 0.1503 - val_loss: 0.1626\n",
            "Epoch 67/100\n",
            "53/53 [==============================] - 0s 3ms/step - loss: 0.1512 - val_loss: 0.1715\n",
            "Epoch 68/100\n",
            "53/53 [==============================] - 0s 3ms/step - loss: 0.1480 - val_loss: 0.1750\n",
            "Epoch 69/100\n",
            "53/53 [==============================] - 0s 3ms/step - loss: 0.1551 - val_loss: 0.1697\n",
            "Epoch 70/100\n",
            "53/53 [==============================] - 0s 3ms/step - loss: 0.1500 - val_loss: 0.1804\n",
            "Epoch 71/100\n",
            "53/53 [==============================] - 0s 3ms/step - loss: 0.1558 - val_loss: 0.1710\n",
            "Epoch 72/100\n",
            "53/53 [==============================] - 0s 3ms/step - loss: 0.1490 - val_loss: 0.1672\n",
            "Epoch 73/100\n",
            "53/53 [==============================] - 0s 3ms/step - loss: 0.1537 - val_loss: 0.1937\n",
            "Epoch 74/100\n",
            "53/53 [==============================] - 0s 3ms/step - loss: 0.1518 - val_loss: 0.1777\n",
            "Epoch 75/100\n",
            "53/53 [==============================] - 0s 3ms/step - loss: 0.1549 - val_loss: 0.1828\n",
            "Epoch 76/100\n",
            "53/53 [==============================] - 0s 3ms/step - loss: 0.1562 - val_loss: 0.1589\n",
            "Epoch 77/100\n",
            "53/53 [==============================] - 0s 3ms/step - loss: 0.1536 - val_loss: 0.1570\n",
            "Epoch 78/100\n",
            "53/53 [==============================] - 0s 3ms/step - loss: 0.1478 - val_loss: 0.1632\n",
            "Epoch 79/100\n",
            "53/53 [==============================] - 0s 3ms/step - loss: 0.1541 - val_loss: 0.1790\n",
            "Epoch 80/100\n",
            "53/53 [==============================] - 0s 3ms/step - loss: 0.1509 - val_loss: 0.1602\n",
            "Epoch 81/100\n",
            "53/53 [==============================] - 0s 3ms/step - loss: 0.1552 - val_loss: 0.1535\n",
            "Epoch 82/100\n",
            "53/53 [==============================] - 0s 3ms/step - loss: 0.1522 - val_loss: 0.1862\n",
            "Epoch 83/100\n",
            "53/53 [==============================] - 0s 3ms/step - loss: 0.1505 - val_loss: 0.1620\n",
            "Epoch 84/100\n",
            "53/53 [==============================] - 0s 3ms/step - loss: 0.1563 - val_loss: 0.1707\n",
            "Epoch 85/100\n",
            "53/53 [==============================] - 0s 3ms/step - loss: 0.1568 - val_loss: 0.1544\n",
            "Epoch 86/100\n",
            "53/53 [==============================] - 0s 3ms/step - loss: 0.1549 - val_loss: 0.1721\n",
            "Epoch 87/100\n",
            "53/53 [==============================] - 0s 4ms/step - loss: 0.1489 - val_loss: 0.1668\n",
            "Epoch 88/100\n",
            "53/53 [==============================] - 0s 3ms/step - loss: 0.1525 - val_loss: 0.1847\n",
            "Epoch 89/100\n",
            "53/53 [==============================] - 0s 3ms/step - loss: 0.1582 - val_loss: 0.1743\n",
            "Epoch 90/100\n",
            "53/53 [==============================] - 0s 3ms/step - loss: 0.1517 - val_loss: 0.1918\n",
            "Epoch 91/100\n",
            "53/53 [==============================] - 0s 4ms/step - loss: 0.1489 - val_loss: 0.1743\n",
            "Epoch 92/100\n",
            "53/53 [==============================] - 0s 3ms/step - loss: 0.1476 - val_loss: 0.1795\n",
            "Epoch 93/100\n",
            "53/53 [==============================] - 0s 3ms/step - loss: 0.1484 - val_loss: 0.1608\n",
            "Epoch 94/100\n",
            "53/53 [==============================] - 0s 3ms/step - loss: 0.1546 - val_loss: 0.1479\n",
            "Epoch 95/100\n",
            "53/53 [==============================] - 0s 3ms/step - loss: 0.1464 - val_loss: 0.1558\n",
            "Epoch 96/100\n",
            "53/53 [==============================] - 0s 3ms/step - loss: 0.1472 - val_loss: 0.1609\n",
            "Epoch 97/100\n",
            "53/53 [==============================] - 0s 2ms/step - loss: 0.1492 - val_loss: 0.1758\n",
            "Epoch 98/100\n",
            "53/53 [==============================] - 0s 2ms/step - loss: 0.1476 - val_loss: 0.1568\n",
            "Epoch 99/100\n",
            "53/53 [==============================] - 0s 3ms/step - loss: 0.1546 - val_loss: 0.1909\n",
            "Epoch 100/100\n",
            "53/53 [==============================] - 0s 3ms/step - loss: 0.1558 - val_loss: 0.1654\n",
            "CPU times: user 17.3 s, sys: 889 ms, total: 18.2 s\n",
            "Wall time: 17.4 s\n"
          ]
        }
      ]
    },
    {
      "cell_type": "markdown",
      "source": [
        "Above we can see that loss is fluctuating between 0.14 and 0.15 values.\n",
        "\n",
        "What if change the learning rate from 0.1 to 0.001.\n",
        "\n",
        "We are making this change and checking if loss gets any better.\n",
        "\n",
        "Let's define a new model with the new rate."
      ],
      "metadata": {
        "id": "x7c78IxVMWSu"
      }
    },
    {
      "cell_type": "code",
      "source": [
        "#  we are defining our linear model with one layer and one expected output using keras API.\n",
        "collisions_linear_model_final = tf.keras.Sequential([\n",
        "    normaliser,\n",
        "    layers.Dense(units=1)\n",
        "])\n",
        "\n",
        "\n",
        "# compile the sequential model, define optimiser with learning rate 0.001 and loss parameter.\n",
        "collisions_linear_model_final.compile(\n",
        "    optimizer=tf.optimizers.Adam(learning_rate=0.001),\n",
        "    loss='mean_absolute_error')"
      ],
      "metadata": {
        "id": "80pJxvuDMnfz"
      },
      "execution_count": null,
      "outputs": []
    },
    {
      "cell_type": "code",
      "source": [
        "# now we are going to fit the model where we require the training features and labels. We will run it 100 times i.e. epochs and we have applied a further 20% validation split. \n",
        "%%time\n",
        "history = collisions_linear_model_final.fit(\n",
        "    training_features,\n",
        "    training_labels,\n",
        "    epochs=100,\n",
        "    verbose=1,\n",
        "    validation_split = 0.2)"
      ],
      "metadata": {
        "colab": {
          "base_uri": "https://localhost:8080/"
        },
        "id": "WfzAPn3RM_Z9",
        "outputId": "04983266-f367-4923-cbca-e749038ac911"
      },
      "execution_count": null,
      "outputs": [
        {
          "output_type": "stream",
          "name": "stdout",
          "text": [
            "Epoch 1/100\n",
            "53/53 [==============================] - 1s 5ms/step - loss: 1.1608 - val_loss: 1.1937\n",
            "Epoch 2/100\n",
            "53/53 [==============================] - 0s 2ms/step - loss: 1.0780 - val_loss: 1.1190\n",
            "Epoch 3/100\n",
            "53/53 [==============================] - 0s 3ms/step - loss: 0.9964 - val_loss: 1.0466\n",
            "Epoch 4/100\n",
            "53/53 [==============================] - 0s 2ms/step - loss: 0.9165 - val_loss: 0.9763\n",
            "Epoch 5/100\n",
            "53/53 [==============================] - 0s 3ms/step - loss: 0.8382 - val_loss: 0.9076\n",
            "Epoch 6/100\n",
            "53/53 [==============================] - 0s 2ms/step - loss: 0.7619 - val_loss: 0.8416\n",
            "Epoch 7/100\n",
            "53/53 [==============================] - 0s 2ms/step - loss: 0.6885 - val_loss: 0.7782\n",
            "Epoch 8/100\n",
            "53/53 [==============================] - 0s 2ms/step - loss: 0.6193 - val_loss: 0.7187\n",
            "Epoch 9/100\n",
            "53/53 [==============================] - 0s 2ms/step - loss: 0.5526 - val_loss: 0.6618\n",
            "Epoch 10/100\n",
            "53/53 [==============================] - 0s 3ms/step - loss: 0.4886 - val_loss: 0.6094\n",
            "Epoch 11/100\n",
            "53/53 [==============================] - 0s 3ms/step - loss: 0.4294 - val_loss: 0.5623\n",
            "Epoch 12/100\n",
            "53/53 [==============================] - 0s 3ms/step - loss: 0.3746 - val_loss: 0.5200\n",
            "Epoch 13/100\n",
            "53/53 [==============================] - 0s 2ms/step - loss: 0.3258 - val_loss: 0.4826\n",
            "Epoch 14/100\n",
            "53/53 [==============================] - 0s 3ms/step - loss: 0.2840 - val_loss: 0.4535\n",
            "Epoch 15/100\n",
            "53/53 [==============================] - 0s 3ms/step - loss: 0.2491 - val_loss: 0.4291\n",
            "Epoch 16/100\n",
            "53/53 [==============================] - 0s 2ms/step - loss: 0.2211 - val_loss: 0.4094\n",
            "Epoch 17/100\n",
            "53/53 [==============================] - 0s 3ms/step - loss: 0.1988 - val_loss: 0.3910\n",
            "Epoch 18/100\n",
            "53/53 [==============================] - 0s 3ms/step - loss: 0.1811 - val_loss: 0.3763\n",
            "Epoch 19/100\n",
            "53/53 [==============================] - 0s 3ms/step - loss: 0.1669 - val_loss: 0.3647\n",
            "Epoch 20/100\n",
            "53/53 [==============================] - 0s 3ms/step - loss: 0.1571 - val_loss: 0.3569\n",
            "Epoch 21/100\n",
            "53/53 [==============================] - 0s 3ms/step - loss: 0.1507 - val_loss: 0.3524\n",
            "Epoch 22/100\n",
            "53/53 [==============================] - 0s 3ms/step - loss: 0.1469 - val_loss: 0.3498\n",
            "Epoch 23/100\n",
            "53/53 [==============================] - 0s 3ms/step - loss: 0.1446 - val_loss: 0.3477\n",
            "Epoch 24/100\n",
            "53/53 [==============================] - 0s 3ms/step - loss: 0.1433 - val_loss: 0.3467\n",
            "Epoch 25/100\n",
            "53/53 [==============================] - 0s 3ms/step - loss: 0.1426 - val_loss: 0.3456\n",
            "Epoch 26/100\n",
            "53/53 [==============================] - 0s 2ms/step - loss: 0.1421 - val_loss: 0.3454\n",
            "Epoch 27/100\n",
            "53/53 [==============================] - 0s 3ms/step - loss: 0.1418 - val_loss: 0.3449\n",
            "Epoch 28/100\n",
            "53/53 [==============================] - 0s 3ms/step - loss: 0.1417 - val_loss: 0.3441\n",
            "Epoch 29/100\n",
            "53/53 [==============================] - 0s 2ms/step - loss: 0.1416 - val_loss: 0.3438\n",
            "Epoch 30/100\n",
            "53/53 [==============================] - 0s 2ms/step - loss: 0.1417 - val_loss: 0.3433\n",
            "Epoch 31/100\n",
            "53/53 [==============================] - 0s 2ms/step - loss: 0.1415 - val_loss: 0.3423\n",
            "Epoch 32/100\n",
            "53/53 [==============================] - 0s 3ms/step - loss: 0.1417 - val_loss: 0.3415\n",
            "Epoch 33/100\n",
            "53/53 [==============================] - 0s 3ms/step - loss: 0.1414 - val_loss: 0.3411\n",
            "Epoch 34/100\n",
            "53/53 [==============================] - 0s 3ms/step - loss: 0.1415 - val_loss: 0.3405\n",
            "Epoch 35/100\n",
            "53/53 [==============================] - 0s 3ms/step - loss: 0.1414 - val_loss: 0.3392\n",
            "Epoch 36/100\n",
            "53/53 [==============================] - 0s 2ms/step - loss: 0.1415 - val_loss: 0.3382\n",
            "Epoch 37/100\n",
            "53/53 [==============================] - 0s 3ms/step - loss: 0.1414 - val_loss: 0.3375\n",
            "Epoch 38/100\n",
            "53/53 [==============================] - 0s 3ms/step - loss: 0.1415 - val_loss: 0.3367\n",
            "Epoch 39/100\n",
            "53/53 [==============================] - 0s 2ms/step - loss: 0.1414 - val_loss: 0.3360\n",
            "Epoch 40/100\n",
            "53/53 [==============================] - 0s 3ms/step - loss: 0.1413 - val_loss: 0.3353\n",
            "Epoch 41/100\n",
            "53/53 [==============================] - 0s 9ms/step - loss: 0.1413 - val_loss: 0.3343\n",
            "Epoch 42/100\n",
            "53/53 [==============================] - 0s 3ms/step - loss: 0.1413 - val_loss: 0.3333\n",
            "Epoch 43/100\n",
            "53/53 [==============================] - 0s 3ms/step - loss: 0.1414 - val_loss: 0.3324\n",
            "Epoch 44/100\n",
            "53/53 [==============================] - 0s 2ms/step - loss: 0.1412 - val_loss: 0.3320\n",
            "Epoch 45/100\n",
            "53/53 [==============================] - 0s 3ms/step - loss: 0.1412 - val_loss: 0.3308\n",
            "Epoch 46/100\n",
            "53/53 [==============================] - 0s 4ms/step - loss: 0.1411 - val_loss: 0.3296\n",
            "Epoch 47/100\n",
            "53/53 [==============================] - 0s 3ms/step - loss: 0.1411 - val_loss: 0.3298\n",
            "Epoch 48/100\n",
            "53/53 [==============================] - 0s 2ms/step - loss: 0.1411 - val_loss: 0.3280\n",
            "Epoch 49/100\n",
            "53/53 [==============================] - 0s 2ms/step - loss: 0.1412 - val_loss: 0.3272\n",
            "Epoch 50/100\n",
            "53/53 [==============================] - 0s 3ms/step - loss: 0.1410 - val_loss: 0.3260\n",
            "Epoch 51/100\n",
            "53/53 [==============================] - 0s 4ms/step - loss: 0.1409 - val_loss: 0.3249\n",
            "Epoch 52/100\n",
            "53/53 [==============================] - 0s 5ms/step - loss: 0.1410 - val_loss: 0.3240\n",
            "Epoch 53/100\n",
            "53/53 [==============================] - 0s 4ms/step - loss: 0.1409 - val_loss: 0.3231\n",
            "Epoch 54/100\n",
            "53/53 [==============================] - 0s 4ms/step - loss: 0.1409 - val_loss: 0.3220\n",
            "Epoch 55/100\n",
            "53/53 [==============================] - 0s 5ms/step - loss: 0.1408 - val_loss: 0.3210\n",
            "Epoch 56/100\n",
            "53/53 [==============================] - 0s 5ms/step - loss: 0.1408 - val_loss: 0.3198\n",
            "Epoch 57/100\n",
            "53/53 [==============================] - 0s 4ms/step - loss: 0.1408 - val_loss: 0.3195\n",
            "Epoch 58/100\n",
            "53/53 [==============================] - 0s 3ms/step - loss: 0.1408 - val_loss: 0.3182\n",
            "Epoch 59/100\n",
            "53/53 [==============================] - 0s 3ms/step - loss: 0.1407 - val_loss: 0.3173\n",
            "Epoch 60/100\n",
            "53/53 [==============================] - 0s 5ms/step - loss: 0.1407 - val_loss: 0.3160\n",
            "Epoch 61/100\n",
            "53/53 [==============================] - 0s 5ms/step - loss: 0.1406 - val_loss: 0.3149\n",
            "Epoch 62/100\n",
            "53/53 [==============================] - 0s 3ms/step - loss: 0.1407 - val_loss: 0.3140\n",
            "Epoch 63/100\n",
            "53/53 [==============================] - 0s 2ms/step - loss: 0.1406 - val_loss: 0.3132\n",
            "Epoch 64/100\n",
            "53/53 [==============================] - 0s 3ms/step - loss: 0.1406 - val_loss: 0.3116\n",
            "Epoch 65/100\n",
            "53/53 [==============================] - 0s 3ms/step - loss: 0.1406 - val_loss: 0.3112\n",
            "Epoch 66/100\n",
            "53/53 [==============================] - 0s 3ms/step - loss: 0.1405 - val_loss: 0.3102\n",
            "Epoch 67/100\n",
            "53/53 [==============================] - 0s 3ms/step - loss: 0.1405 - val_loss: 0.3088\n",
            "Epoch 68/100\n",
            "53/53 [==============================] - 0s 3ms/step - loss: 0.1405 - val_loss: 0.3082\n",
            "Epoch 69/100\n",
            "53/53 [==============================] - 0s 3ms/step - loss: 0.1404 - val_loss: 0.3067\n",
            "Epoch 70/100\n",
            "53/53 [==============================] - 0s 3ms/step - loss: 0.1404 - val_loss: 0.3062\n",
            "Epoch 71/100\n",
            "53/53 [==============================] - 0s 2ms/step - loss: 0.1404 - val_loss: 0.3045\n",
            "Epoch 72/100\n",
            "53/53 [==============================] - 0s 2ms/step - loss: 0.1404 - val_loss: 0.3034\n",
            "Epoch 73/100\n",
            "53/53 [==============================] - 0s 2ms/step - loss: 0.1403 - val_loss: 0.3024\n",
            "Epoch 74/100\n",
            "53/53 [==============================] - 0s 3ms/step - loss: 0.1403 - val_loss: 0.3014\n",
            "Epoch 75/100\n",
            "53/53 [==============================] - 0s 2ms/step - loss: 0.1403 - val_loss: 0.3006\n",
            "Epoch 76/100\n",
            "53/53 [==============================] - 0s 2ms/step - loss: 0.1402 - val_loss: 0.3000\n",
            "Epoch 77/100\n",
            "53/53 [==============================] - 0s 3ms/step - loss: 0.1402 - val_loss: 0.2983\n",
            "Epoch 78/100\n",
            "53/53 [==============================] - 0s 3ms/step - loss: 0.1401 - val_loss: 0.2976\n",
            "Epoch 79/100\n",
            "53/53 [==============================] - 0s 3ms/step - loss: 0.1401 - val_loss: 0.2960\n",
            "Epoch 80/100\n",
            "53/53 [==============================] - 0s 2ms/step - loss: 0.1401 - val_loss: 0.2951\n",
            "Epoch 81/100\n",
            "53/53 [==============================] - 0s 3ms/step - loss: 0.1400 - val_loss: 0.2940\n",
            "Epoch 82/100\n",
            "53/53 [==============================] - 0s 2ms/step - loss: 0.1401 - val_loss: 0.2931\n",
            "Epoch 83/100\n",
            "53/53 [==============================] - 0s 3ms/step - loss: 0.1400 - val_loss: 0.2918\n",
            "Epoch 84/100\n",
            "53/53 [==============================] - 0s 3ms/step - loss: 0.1399 - val_loss: 0.2910\n",
            "Epoch 85/100\n",
            "53/53 [==============================] - 0s 2ms/step - loss: 0.1399 - val_loss: 0.2903\n",
            "Epoch 86/100\n",
            "53/53 [==============================] - 0s 2ms/step - loss: 0.1400 - val_loss: 0.2894\n",
            "Epoch 87/100\n",
            "53/53 [==============================] - 0s 3ms/step - loss: 0.1398 - val_loss: 0.2885\n",
            "Epoch 88/100\n",
            "53/53 [==============================] - 0s 3ms/step - loss: 0.1399 - val_loss: 0.2869\n",
            "Epoch 89/100\n",
            "53/53 [==============================] - 0s 2ms/step - loss: 0.1398 - val_loss: 0.2859\n",
            "Epoch 90/100\n",
            "53/53 [==============================] - 0s 3ms/step - loss: 0.1398 - val_loss: 0.2850\n",
            "Epoch 91/100\n",
            "53/53 [==============================] - 0s 3ms/step - loss: 0.1397 - val_loss: 0.2838\n",
            "Epoch 92/100\n",
            "53/53 [==============================] - 0s 4ms/step - loss: 0.1397 - val_loss: 0.2828\n",
            "Epoch 93/100\n",
            "53/53 [==============================] - 0s 7ms/step - loss: 0.1397 - val_loss: 0.2822\n",
            "Epoch 94/100\n",
            "53/53 [==============================] - 0s 3ms/step - loss: 0.1397 - val_loss: 0.2810\n",
            "Epoch 95/100\n",
            "53/53 [==============================] - 0s 3ms/step - loss: 0.1397 - val_loss: 0.2801\n",
            "Epoch 96/100\n",
            "53/53 [==============================] - 0s 2ms/step - loss: 0.1398 - val_loss: 0.2794\n",
            "Epoch 97/100\n",
            "53/53 [==============================] - 0s 2ms/step - loss: 0.1399 - val_loss: 0.2781\n",
            "Epoch 98/100\n",
            "53/53 [==============================] - 0s 2ms/step - loss: 0.1397 - val_loss: 0.2770\n",
            "Epoch 99/100\n",
            "53/53 [==============================] - 0s 2ms/step - loss: 0.1397 - val_loss: 0.2761\n",
            "Epoch 100/100\n",
            "53/53 [==============================] - 0s 3ms/step - loss: 0.1396 - val_loss: 0.2753\n",
            "CPU times: user 16.5 s, sys: 805 ms, total: 17.3 s\n",
            "Wall time: 17.2 s\n"
          ]
        }
      ]
    },
    {
      "cell_type": "markdown",
      "source": [
        "As we can see above, loss starts from 1.16 and then gradually decreases to 0.13 without fluctuating. This looks better so we are going to use this for predicting data.\n",
        "\n",
        "Now let's evaluate the model using the 20% validation data we separated earlier."
      ],
      "metadata": {
        "id": "cHttfPuKNeT_"
      }
    },
    {
      "cell_type": "code",
      "source": [
        "mean_absolute_error_linear_final = collisions_linear_model_final.evaluate(\n",
        "    test_features,\n",
        "    test_labels, verbose=0)\n",
        "\n",
        "print(mean_absolute_error_linear_final)"
      ],
      "metadata": {
        "colab": {
          "base_uri": "https://localhost:8080/"
        },
        "id": "9rmuEAnFMVna",
        "outputId": "92dc7fb1-56c1-44af-a70c-339f0a73e52f"
      },
      "execution_count": null,
      "outputs": [
        {
          "output_type": "stream",
          "name": "stdout",
          "text": [
            "0.15761162340641022\n"
          ]
        }
      ]
    },
    {
      "cell_type": "markdown",
      "source": [
        "This model will be used to predict the values against test data in **Results** section below.\n",
        "\n",
        "**DNN Regression**\n",
        "\n",
        "Next, we are going to prepare the DNN regression model.\n",
        "\n",
        "Deep learning is the subfield of machine learning which uses a set of neurons organized in layers. A deep learning model consists of three layers: the input layer, the output layer, and the hidden layers.\n",
        "\n",
        "Like linear model, here also we are going to import DNN training data."
      ],
      "metadata": {
        "id": "4L14Yj_FSOJO"
      }
    },
    {
      "cell_type": "code",
      "source": [
        "# create data frame from csv file we hosted on our github\n",
        "dfDNN = pd.read_csv('https://raw.githubusercontent.com/22017498uhi/22017498_DataAnalytics/main/Assignment_2_dnndata_train.csv', index_col=0)"
      ],
      "metadata": {
        "id": "mkF-3DzGUToU"
      },
      "execution_count": null,
      "outputs": []
    },
    {
      "cell_type": "markdown",
      "source": [
        "Next, we are validating if data is imported successfully."
      ],
      "metadata": {
        "id": "LYo2ih7SU02j"
      }
    },
    {
      "cell_type": "code",
      "source": [
        "dfDNN[:5]"
      ],
      "metadata": {
        "colab": {
          "base_uri": "https://localhost:8080/",
          "height": 235
        },
        "id": "5q0LVomMU3sE",
        "outputId": "54f74fc6-b91a-4718-c685-d91bf69cd930"
      },
      "execution_count": null,
      "outputs": [
        {
          "output_type": "execute_result",
          "data": {
            "text/plain": [
              "   Apr  Aug  Dec  Feb  Jan  Jul  Jun  Mar  May  Nov  ...  Sat  Sun  Thu  Tue  \\\n",
              "1    0    0    0    0    0    1    0    0    0    0  ...    0    1    0    0   \n",
              "2    0    0    0    0    0    1    0    0    0    0  ...    0    0    0    0   \n",
              "3    0    0    0    0    0    1    0    0    0    0  ...    0    0    0    1   \n",
              "4    0    0    0    0    0    1    0    0    0    0  ...    0    0    0    0   \n",
              "5    0    0    0    0    0    1    0    0    0    0  ...    0    0    1    0   \n",
              "\n",
              "   Wed  year  temp  dewp  wdsp  NUM_COLLISIONS  \n",
              "1    0  2012  83.6  63.0   4.1        0.479769  \n",
              "2    0  2012  80.3  54.1   3.8        0.554913  \n",
              "3    0  2012  79.8  56.7   2.9        0.843931  \n",
              "4    1  2012  81.8  65.6   3.6        0.173410  \n",
              "5    0  2012  86.7  64.3   3.8        0.632948  \n",
              "\n",
              "[5 rows x 24 columns]"
            ],
            "text/html": [
              "\n",
              "  <div id=\"df-b6a330cc-b8a0-4fb4-8f7e-7a2c56780884\">\n",
              "    <div class=\"colab-df-container\">\n",
              "      <div>\n",
              "<style scoped>\n",
              "    .dataframe tbody tr th:only-of-type {\n",
              "        vertical-align: middle;\n",
              "    }\n",
              "\n",
              "    .dataframe tbody tr th {\n",
              "        vertical-align: top;\n",
              "    }\n",
              "\n",
              "    .dataframe thead th {\n",
              "        text-align: right;\n",
              "    }\n",
              "</style>\n",
              "<table border=\"1\" class=\"dataframe\">\n",
              "  <thead>\n",
              "    <tr style=\"text-align: right;\">\n",
              "      <th></th>\n",
              "      <th>Apr</th>\n",
              "      <th>Aug</th>\n",
              "      <th>Dec</th>\n",
              "      <th>Feb</th>\n",
              "      <th>Jan</th>\n",
              "      <th>Jul</th>\n",
              "      <th>Jun</th>\n",
              "      <th>Mar</th>\n",
              "      <th>May</th>\n",
              "      <th>Nov</th>\n",
              "      <th>...</th>\n",
              "      <th>Sat</th>\n",
              "      <th>Sun</th>\n",
              "      <th>Thu</th>\n",
              "      <th>Tue</th>\n",
              "      <th>Wed</th>\n",
              "      <th>year</th>\n",
              "      <th>temp</th>\n",
              "      <th>dewp</th>\n",
              "      <th>wdsp</th>\n",
              "      <th>NUM_COLLISIONS</th>\n",
              "    </tr>\n",
              "  </thead>\n",
              "  <tbody>\n",
              "    <tr>\n",
              "      <th>1</th>\n",
              "      <td>0</td>\n",
              "      <td>0</td>\n",
              "      <td>0</td>\n",
              "      <td>0</td>\n",
              "      <td>0</td>\n",
              "      <td>1</td>\n",
              "      <td>0</td>\n",
              "      <td>0</td>\n",
              "      <td>0</td>\n",
              "      <td>0</td>\n",
              "      <td>...</td>\n",
              "      <td>0</td>\n",
              "      <td>1</td>\n",
              "      <td>0</td>\n",
              "      <td>0</td>\n",
              "      <td>0</td>\n",
              "      <td>2012</td>\n",
              "      <td>83.6</td>\n",
              "      <td>63.0</td>\n",
              "      <td>4.1</td>\n",
              "      <td>0.479769</td>\n",
              "    </tr>\n",
              "    <tr>\n",
              "      <th>2</th>\n",
              "      <td>0</td>\n",
              "      <td>0</td>\n",
              "      <td>0</td>\n",
              "      <td>0</td>\n",
              "      <td>0</td>\n",
              "      <td>1</td>\n",
              "      <td>0</td>\n",
              "      <td>0</td>\n",
              "      <td>0</td>\n",
              "      <td>0</td>\n",
              "      <td>...</td>\n",
              "      <td>0</td>\n",
              "      <td>0</td>\n",
              "      <td>0</td>\n",
              "      <td>0</td>\n",
              "      <td>0</td>\n",
              "      <td>2012</td>\n",
              "      <td>80.3</td>\n",
              "      <td>54.1</td>\n",
              "      <td>3.8</td>\n",
              "      <td>0.554913</td>\n",
              "    </tr>\n",
              "    <tr>\n",
              "      <th>3</th>\n",
              "      <td>0</td>\n",
              "      <td>0</td>\n",
              "      <td>0</td>\n",
              "      <td>0</td>\n",
              "      <td>0</td>\n",
              "      <td>1</td>\n",
              "      <td>0</td>\n",
              "      <td>0</td>\n",
              "      <td>0</td>\n",
              "      <td>0</td>\n",
              "      <td>...</td>\n",
              "      <td>0</td>\n",
              "      <td>0</td>\n",
              "      <td>0</td>\n",
              "      <td>1</td>\n",
              "      <td>0</td>\n",
              "      <td>2012</td>\n",
              "      <td>79.8</td>\n",
              "      <td>56.7</td>\n",
              "      <td>2.9</td>\n",
              "      <td>0.843931</td>\n",
              "    </tr>\n",
              "    <tr>\n",
              "      <th>4</th>\n",
              "      <td>0</td>\n",
              "      <td>0</td>\n",
              "      <td>0</td>\n",
              "      <td>0</td>\n",
              "      <td>0</td>\n",
              "      <td>1</td>\n",
              "      <td>0</td>\n",
              "      <td>0</td>\n",
              "      <td>0</td>\n",
              "      <td>0</td>\n",
              "      <td>...</td>\n",
              "      <td>0</td>\n",
              "      <td>0</td>\n",
              "      <td>0</td>\n",
              "      <td>0</td>\n",
              "      <td>1</td>\n",
              "      <td>2012</td>\n",
              "      <td>81.8</td>\n",
              "      <td>65.6</td>\n",
              "      <td>3.6</td>\n",
              "      <td>0.173410</td>\n",
              "    </tr>\n",
              "    <tr>\n",
              "      <th>5</th>\n",
              "      <td>0</td>\n",
              "      <td>0</td>\n",
              "      <td>0</td>\n",
              "      <td>0</td>\n",
              "      <td>0</td>\n",
              "      <td>1</td>\n",
              "      <td>0</td>\n",
              "      <td>0</td>\n",
              "      <td>0</td>\n",
              "      <td>0</td>\n",
              "      <td>...</td>\n",
              "      <td>0</td>\n",
              "      <td>0</td>\n",
              "      <td>1</td>\n",
              "      <td>0</td>\n",
              "      <td>0</td>\n",
              "      <td>2012</td>\n",
              "      <td>86.7</td>\n",
              "      <td>64.3</td>\n",
              "      <td>3.8</td>\n",
              "      <td>0.632948</td>\n",
              "    </tr>\n",
              "  </tbody>\n",
              "</table>\n",
              "<p>5 rows × 24 columns</p>\n",
              "</div>\n",
              "      <button class=\"colab-df-convert\" onclick=\"convertToInteractive('df-b6a330cc-b8a0-4fb4-8f7e-7a2c56780884')\"\n",
              "              title=\"Convert this dataframe to an interactive table.\"\n",
              "              style=\"display:none;\">\n",
              "        \n",
              "  <svg xmlns=\"http://www.w3.org/2000/svg\" height=\"24px\"viewBox=\"0 0 24 24\"\n",
              "       width=\"24px\">\n",
              "    <path d=\"M0 0h24v24H0V0z\" fill=\"none\"/>\n",
              "    <path d=\"M18.56 5.44l.94 2.06.94-2.06 2.06-.94-2.06-.94-.94-2.06-.94 2.06-2.06.94zm-11 1L8.5 8.5l.94-2.06 2.06-.94-2.06-.94L8.5 2.5l-.94 2.06-2.06.94zm10 10l.94 2.06.94-2.06 2.06-.94-2.06-.94-.94-2.06-.94 2.06-2.06.94z\"/><path d=\"M17.41 7.96l-1.37-1.37c-.4-.4-.92-.59-1.43-.59-.52 0-1.04.2-1.43.59L10.3 9.45l-7.72 7.72c-.78.78-.78 2.05 0 2.83L4 21.41c.39.39.9.59 1.41.59.51 0 1.02-.2 1.41-.59l7.78-7.78 2.81-2.81c.8-.78.8-2.07 0-2.86zM5.41 20L4 18.59l7.72-7.72 1.47 1.35L5.41 20z\"/>\n",
              "  </svg>\n",
              "      </button>\n",
              "      \n",
              "  <style>\n",
              "    .colab-df-container {\n",
              "      display:flex;\n",
              "      flex-wrap:wrap;\n",
              "      gap: 12px;\n",
              "    }\n",
              "\n",
              "    .colab-df-convert {\n",
              "      background-color: #E8F0FE;\n",
              "      border: none;\n",
              "      border-radius: 50%;\n",
              "      cursor: pointer;\n",
              "      display: none;\n",
              "      fill: #1967D2;\n",
              "      height: 32px;\n",
              "      padding: 0 0 0 0;\n",
              "      width: 32px;\n",
              "    }\n",
              "\n",
              "    .colab-df-convert:hover {\n",
              "      background-color: #E2EBFA;\n",
              "      box-shadow: 0px 1px 2px rgba(60, 64, 67, 0.3), 0px 1px 3px 1px rgba(60, 64, 67, 0.15);\n",
              "      fill: #174EA6;\n",
              "    }\n",
              "\n",
              "    [theme=dark] .colab-df-convert {\n",
              "      background-color: #3B4455;\n",
              "      fill: #D2E3FC;\n",
              "    }\n",
              "\n",
              "    [theme=dark] .colab-df-convert:hover {\n",
              "      background-color: #434B5C;\n",
              "      box-shadow: 0px 1px 3px 1px rgba(0, 0, 0, 0.15);\n",
              "      filter: drop-shadow(0px 1px 2px rgba(0, 0, 0, 0.3));\n",
              "      fill: #FFFFFF;\n",
              "    }\n",
              "  </style>\n",
              "\n",
              "      <script>\n",
              "        const buttonEl =\n",
              "          document.querySelector('#df-b6a330cc-b8a0-4fb4-8f7e-7a2c56780884 button.colab-df-convert');\n",
              "        buttonEl.style.display =\n",
              "          google.colab.kernel.accessAllowed ? 'block' : 'none';\n",
              "\n",
              "        async function convertToInteractive(key) {\n",
              "          const element = document.querySelector('#df-b6a330cc-b8a0-4fb4-8f7e-7a2c56780884');\n",
              "          const dataTable =\n",
              "            await google.colab.kernel.invokeFunction('convertToInteractive',\n",
              "                                                     [key], {});\n",
              "          if (!dataTable) return;\n",
              "\n",
              "          const docLinkHtml = 'Like what you see? Visit the ' +\n",
              "            '<a target=\"_blank\" href=https://colab.research.google.com/notebooks/data_table.ipynb>data table notebook</a>'\n",
              "            + ' to learn more about interactive tables.';\n",
              "          element.innerHTML = '';\n",
              "          dataTable['output_type'] = 'display_data';\n",
              "          await google.colab.output.renderOutput(dataTable, element);\n",
              "          const docLink = document.createElement('div');\n",
              "          docLink.innerHTML = docLinkHtml;\n",
              "          element.appendChild(docLink);\n",
              "        }\n",
              "      </script>\n",
              "    </div>\n",
              "  </div>\n",
              "  "
            ]
          },
          "metadata": {},
          "execution_count": 36
        }
      ]
    },
    {
      "cell_type": "markdown",
      "source": [
        "Next, we are preparing the input columns for the prediction model."
      ],
      "metadata": {
        "id": "TJih54TZU5w5"
      }
    },
    {
      "cell_type": "code",
      "source": [
        "dnn_input_data = [dfDNN[\"year\"], dfDNN[\"temp\"], dfDNN[\"dewp\"], dfDNN[\"wdsp\"], dfDNN[\"Sat\"], dfDNN[\"Sun\"], dfDNN[\"Mon\"], dfDNN[\"Tue\"], dfDNN[\"Wed\"], dfDNN[\"Thu\"], dfDNN[\"Fri\"], dfDNN[\"Jan\"], dfDNN[\"Feb\"], dfDNN[\"Mar\"], dfDNN[\"Apr\"], dfDNN[\"May\"], dfDNN[\"Jun\"], dfDNN[\"Jul\"], dfDNN[\"Aug\"], dfDNN[\"Sep\"], dfDNN[\"Oct\"], dfDNN[\"Nov\"], dfDNN[\"Dec\"], dfDNN[\"NUM_COLLISIONS\"]]\n",
        "headers = [\"year\",\"temp\",\"dewp\" ,\"wdsp\", \"Sat\",\"Sun\",\"Mon\",\"Tue\",\"Wed\",\"Thu\",\"Fri\",\"Jan\",\"Feb\",\"Mar\",\"Apr\",\"May\",\"Jun\",\"Jul\",\"Aug\",\"Sep\",\"Oct\",\"Nov\",\"Dec\",\"NUM_COLLISIONS\"]\n",
        "df_dnn_input = pd.concat(dnn_input_data, axis=1, keys=headers)\n",
        "df_dnn_input.head()"
      ],
      "metadata": {
        "colab": {
          "base_uri": "https://localhost:8080/",
          "height": 235
        },
        "id": "EMECS-1OVCBk",
        "outputId": "89429866-5486-4c87-91db-cb538c3a120f"
      },
      "execution_count": null,
      "outputs": [
        {
          "output_type": "execute_result",
          "data": {
            "text/plain": [
              "   year  temp  dewp  wdsp  Sat  Sun  Mon  Tue  Wed  Thu  ...  Apr  May  Jun  \\\n",
              "1  2012  83.6  63.0   4.1    0    1    0    0    0    0  ...    0    0    0   \n",
              "2  2012  80.3  54.1   3.8    0    0    1    0    0    0  ...    0    0    0   \n",
              "3  2012  79.8  56.7   2.9    0    0    0    1    0    0  ...    0    0    0   \n",
              "4  2012  81.8  65.6   3.6    0    0    0    0    1    0  ...    0    0    0   \n",
              "5  2012  86.7  64.3   3.8    0    0    0    0    0    1  ...    0    0    0   \n",
              "\n",
              "   Jul  Aug  Sep  Oct  Nov  Dec  NUM_COLLISIONS  \n",
              "1    1    0    0    0    0    0        0.479769  \n",
              "2    1    0    0    0    0    0        0.554913  \n",
              "3    1    0    0    0    0    0        0.843931  \n",
              "4    1    0    0    0    0    0        0.173410  \n",
              "5    1    0    0    0    0    0        0.632948  \n",
              "\n",
              "[5 rows x 24 columns]"
            ],
            "text/html": [
              "\n",
              "  <div id=\"df-edca0d9c-a814-42e1-b55c-a45b5887b205\">\n",
              "    <div class=\"colab-df-container\">\n",
              "      <div>\n",
              "<style scoped>\n",
              "    .dataframe tbody tr th:only-of-type {\n",
              "        vertical-align: middle;\n",
              "    }\n",
              "\n",
              "    .dataframe tbody tr th {\n",
              "        vertical-align: top;\n",
              "    }\n",
              "\n",
              "    .dataframe thead th {\n",
              "        text-align: right;\n",
              "    }\n",
              "</style>\n",
              "<table border=\"1\" class=\"dataframe\">\n",
              "  <thead>\n",
              "    <tr style=\"text-align: right;\">\n",
              "      <th></th>\n",
              "      <th>year</th>\n",
              "      <th>temp</th>\n",
              "      <th>dewp</th>\n",
              "      <th>wdsp</th>\n",
              "      <th>Sat</th>\n",
              "      <th>Sun</th>\n",
              "      <th>Mon</th>\n",
              "      <th>Tue</th>\n",
              "      <th>Wed</th>\n",
              "      <th>Thu</th>\n",
              "      <th>...</th>\n",
              "      <th>Apr</th>\n",
              "      <th>May</th>\n",
              "      <th>Jun</th>\n",
              "      <th>Jul</th>\n",
              "      <th>Aug</th>\n",
              "      <th>Sep</th>\n",
              "      <th>Oct</th>\n",
              "      <th>Nov</th>\n",
              "      <th>Dec</th>\n",
              "      <th>NUM_COLLISIONS</th>\n",
              "    </tr>\n",
              "  </thead>\n",
              "  <tbody>\n",
              "    <tr>\n",
              "      <th>1</th>\n",
              "      <td>2012</td>\n",
              "      <td>83.6</td>\n",
              "      <td>63.0</td>\n",
              "      <td>4.1</td>\n",
              "      <td>0</td>\n",
              "      <td>1</td>\n",
              "      <td>0</td>\n",
              "      <td>0</td>\n",
              "      <td>0</td>\n",
              "      <td>0</td>\n",
              "      <td>...</td>\n",
              "      <td>0</td>\n",
              "      <td>0</td>\n",
              "      <td>0</td>\n",
              "      <td>1</td>\n",
              "      <td>0</td>\n",
              "      <td>0</td>\n",
              "      <td>0</td>\n",
              "      <td>0</td>\n",
              "      <td>0</td>\n",
              "      <td>0.479769</td>\n",
              "    </tr>\n",
              "    <tr>\n",
              "      <th>2</th>\n",
              "      <td>2012</td>\n",
              "      <td>80.3</td>\n",
              "      <td>54.1</td>\n",
              "      <td>3.8</td>\n",
              "      <td>0</td>\n",
              "      <td>0</td>\n",
              "      <td>1</td>\n",
              "      <td>0</td>\n",
              "      <td>0</td>\n",
              "      <td>0</td>\n",
              "      <td>...</td>\n",
              "      <td>0</td>\n",
              "      <td>0</td>\n",
              "      <td>0</td>\n",
              "      <td>1</td>\n",
              "      <td>0</td>\n",
              "      <td>0</td>\n",
              "      <td>0</td>\n",
              "      <td>0</td>\n",
              "      <td>0</td>\n",
              "      <td>0.554913</td>\n",
              "    </tr>\n",
              "    <tr>\n",
              "      <th>3</th>\n",
              "      <td>2012</td>\n",
              "      <td>79.8</td>\n",
              "      <td>56.7</td>\n",
              "      <td>2.9</td>\n",
              "      <td>0</td>\n",
              "      <td>0</td>\n",
              "      <td>0</td>\n",
              "      <td>1</td>\n",
              "      <td>0</td>\n",
              "      <td>0</td>\n",
              "      <td>...</td>\n",
              "      <td>0</td>\n",
              "      <td>0</td>\n",
              "      <td>0</td>\n",
              "      <td>1</td>\n",
              "      <td>0</td>\n",
              "      <td>0</td>\n",
              "      <td>0</td>\n",
              "      <td>0</td>\n",
              "      <td>0</td>\n",
              "      <td>0.843931</td>\n",
              "    </tr>\n",
              "    <tr>\n",
              "      <th>4</th>\n",
              "      <td>2012</td>\n",
              "      <td>81.8</td>\n",
              "      <td>65.6</td>\n",
              "      <td>3.6</td>\n",
              "      <td>0</td>\n",
              "      <td>0</td>\n",
              "      <td>0</td>\n",
              "      <td>0</td>\n",
              "      <td>1</td>\n",
              "      <td>0</td>\n",
              "      <td>...</td>\n",
              "      <td>0</td>\n",
              "      <td>0</td>\n",
              "      <td>0</td>\n",
              "      <td>1</td>\n",
              "      <td>0</td>\n",
              "      <td>0</td>\n",
              "      <td>0</td>\n",
              "      <td>0</td>\n",
              "      <td>0</td>\n",
              "      <td>0.173410</td>\n",
              "    </tr>\n",
              "    <tr>\n",
              "      <th>5</th>\n",
              "      <td>2012</td>\n",
              "      <td>86.7</td>\n",
              "      <td>64.3</td>\n",
              "      <td>3.8</td>\n",
              "      <td>0</td>\n",
              "      <td>0</td>\n",
              "      <td>0</td>\n",
              "      <td>0</td>\n",
              "      <td>0</td>\n",
              "      <td>1</td>\n",
              "      <td>...</td>\n",
              "      <td>0</td>\n",
              "      <td>0</td>\n",
              "      <td>0</td>\n",
              "      <td>1</td>\n",
              "      <td>0</td>\n",
              "      <td>0</td>\n",
              "      <td>0</td>\n",
              "      <td>0</td>\n",
              "      <td>0</td>\n",
              "      <td>0.632948</td>\n",
              "    </tr>\n",
              "  </tbody>\n",
              "</table>\n",
              "<p>5 rows × 24 columns</p>\n",
              "</div>\n",
              "      <button class=\"colab-df-convert\" onclick=\"convertToInteractive('df-edca0d9c-a814-42e1-b55c-a45b5887b205')\"\n",
              "              title=\"Convert this dataframe to an interactive table.\"\n",
              "              style=\"display:none;\">\n",
              "        \n",
              "  <svg xmlns=\"http://www.w3.org/2000/svg\" height=\"24px\"viewBox=\"0 0 24 24\"\n",
              "       width=\"24px\">\n",
              "    <path d=\"M0 0h24v24H0V0z\" fill=\"none\"/>\n",
              "    <path d=\"M18.56 5.44l.94 2.06.94-2.06 2.06-.94-2.06-.94-.94-2.06-.94 2.06-2.06.94zm-11 1L8.5 8.5l.94-2.06 2.06-.94-2.06-.94L8.5 2.5l-.94 2.06-2.06.94zm10 10l.94 2.06.94-2.06 2.06-.94-2.06-.94-.94-2.06-.94 2.06-2.06.94z\"/><path d=\"M17.41 7.96l-1.37-1.37c-.4-.4-.92-.59-1.43-.59-.52 0-1.04.2-1.43.59L10.3 9.45l-7.72 7.72c-.78.78-.78 2.05 0 2.83L4 21.41c.39.39.9.59 1.41.59.51 0 1.02-.2 1.41-.59l7.78-7.78 2.81-2.81c.8-.78.8-2.07 0-2.86zM5.41 20L4 18.59l7.72-7.72 1.47 1.35L5.41 20z\"/>\n",
              "  </svg>\n",
              "      </button>\n",
              "      \n",
              "  <style>\n",
              "    .colab-df-container {\n",
              "      display:flex;\n",
              "      flex-wrap:wrap;\n",
              "      gap: 12px;\n",
              "    }\n",
              "\n",
              "    .colab-df-convert {\n",
              "      background-color: #E8F0FE;\n",
              "      border: none;\n",
              "      border-radius: 50%;\n",
              "      cursor: pointer;\n",
              "      display: none;\n",
              "      fill: #1967D2;\n",
              "      height: 32px;\n",
              "      padding: 0 0 0 0;\n",
              "      width: 32px;\n",
              "    }\n",
              "\n",
              "    .colab-df-convert:hover {\n",
              "      background-color: #E2EBFA;\n",
              "      box-shadow: 0px 1px 2px rgba(60, 64, 67, 0.3), 0px 1px 3px 1px rgba(60, 64, 67, 0.15);\n",
              "      fill: #174EA6;\n",
              "    }\n",
              "\n",
              "    [theme=dark] .colab-df-convert {\n",
              "      background-color: #3B4455;\n",
              "      fill: #D2E3FC;\n",
              "    }\n",
              "\n",
              "    [theme=dark] .colab-df-convert:hover {\n",
              "      background-color: #434B5C;\n",
              "      box-shadow: 0px 1px 3px 1px rgba(0, 0, 0, 0.15);\n",
              "      filter: drop-shadow(0px 1px 2px rgba(0, 0, 0, 0.3));\n",
              "      fill: #FFFFFF;\n",
              "    }\n",
              "  </style>\n",
              "\n",
              "      <script>\n",
              "        const buttonEl =\n",
              "          document.querySelector('#df-edca0d9c-a814-42e1-b55c-a45b5887b205 button.colab-df-convert');\n",
              "        buttonEl.style.display =\n",
              "          google.colab.kernel.accessAllowed ? 'block' : 'none';\n",
              "\n",
              "        async function convertToInteractive(key) {\n",
              "          const element = document.querySelector('#df-edca0d9c-a814-42e1-b55c-a45b5887b205');\n",
              "          const dataTable =\n",
              "            await google.colab.kernel.invokeFunction('convertToInteractive',\n",
              "                                                     [key], {});\n",
              "          if (!dataTable) return;\n",
              "\n",
              "          const docLinkHtml = 'Like what you see? Visit the ' +\n",
              "            '<a target=\"_blank\" href=https://colab.research.google.com/notebooks/data_table.ipynb>data table notebook</a>'\n",
              "            + ' to learn more about interactive tables.';\n",
              "          element.innerHTML = '';\n",
              "          dataTable['output_type'] = 'display_data';\n",
              "          await google.colab.output.renderOutput(dataTable, element);\n",
              "          const docLink = document.createElement('div');\n",
              "          docLink.innerHTML = docLinkHtml;\n",
              "          element.appendChild(docLink);\n",
              "        }\n",
              "      </script>\n",
              "    </div>\n",
              "  </div>\n",
              "  "
            ]
          },
          "metadata": {},
          "execution_count": 41
        }
      ]
    },
    {
      "cell_type": "markdown",
      "source": [
        "Next, we are going prepare training and test data set i.e., split them by 80% to 20% ratio.\n",
        "\n"
      ],
      "metadata": {
        "id": "4OO87Zo5V7dr"
      }
    },
    {
      "cell_type": "code",
      "source": [
        "training_dataset = df_dnn_input.sample(frac=0.8, random_state=0)\n",
        "test_dataset = df_dnn_input.drop(training_dataset.index)"
      ],
      "metadata": {
        "id": "X79egDpSWNI4"
      },
      "execution_count": null,
      "outputs": []
    },
    {
      "cell_type": "markdown",
      "source": [
        "Now, we will remove output column from the input data as its not needed for making the predictions."
      ],
      "metadata": {
        "id": "RONJHhgkWTCt"
      }
    },
    {
      "cell_type": "code",
      "source": [
        "training_features = training_dataset.copy()\n",
        "test_features = test_dataset.copy()\n",
        "\n",
        "training_labels = training_features.pop('NUM_COLLISIONS')\n",
        "test_labels = test_features.pop('NUM_COLLISIONS')"
      ],
      "metadata": {
        "id": "p6gfxL_VWb28"
      },
      "execution_count": null,
      "outputs": []
    },
    {
      "cell_type": "markdown",
      "source": [
        "Now define the normalizers for the input columns."
      ],
      "metadata": {
        "id": "0mVwcfx7WfL2"
      }
    },
    {
      "cell_type": "code",
      "source": [
        "normaliser = tf.keras.layers.Normalization(axis=-1)\n",
        "normaliser.adapt(np.array(training_features))"
      ],
      "metadata": {
        "id": "wjBa1nV4Wlsw"
      },
      "execution_count": null,
      "outputs": []
    },
    {
      "cell_type": "markdown",
      "source": [
        "Now it's time to define the DNN model. Here are we are passing 2 hidden layers; this is what differentiates this from above linear model.\n",
        "\n",
        "same as linear, we are going use learning rate of 0.001."
      ],
      "metadata": {
        "id": "Xz2Cq9VkWniq"
      }
    },
    {
      "cell_type": "code",
      "source": [
        "# we have our normalisation layer (22 inputs), 2 layers of 48, with 1 output.\n",
        "dnn_model = keras.Sequential([\n",
        "      normaliser,\n",
        "      layers.Dense(48, activation='relu'),\n",
        "      layers.Dense(48, activation='relu'),\n",
        "      layers.Dense(1)\n",
        "  ])\n",
        "\n",
        "dnn_model.compile(loss='mean_absolute_error',\n",
        "                optimizer=tf.keras.optimizers.Adam(0.001))"
      ],
      "metadata": {
        "id": "zToa8B6tWzf1"
      },
      "execution_count": null,
      "outputs": []
    },
    {
      "cell_type": "markdown",
      "source": [
        "next, we will train the model."
      ],
      "metadata": {
        "id": "hkVq9U_WXJXu"
      }
    },
    {
      "cell_type": "code",
      "source": [
        "%%time\n",
        "history = dnn_model.fit(\n",
        "    training_features,\n",
        "    training_labels,\n",
        "    validation_split=0.2,\n",
        "    verbose=0, \n",
        "    epochs=100)"
      ],
      "metadata": {
        "colab": {
          "base_uri": "https://localhost:8080/"
        },
        "id": "gcguDTeVXOI2",
        "outputId": "5fc1f820-b23b-496a-c35e-60daf72d57c1"
      },
      "execution_count": null,
      "outputs": [
        {
          "output_type": "stream",
          "name": "stdout",
          "text": [
            "CPU times: user 16.7 s, sys: 1.02 s, total: 17.7 s\n",
            "Wall time: 20.7 s\n"
          ]
        }
      ]
    },
    {
      "cell_type": "markdown",
      "source": [
        "below we are checking the loss value."
      ],
      "metadata": {
        "id": "0OXHp9k-XgyG"
      }
    },
    {
      "cell_type": "code",
      "source": [
        "dnn_model_results = dnn_model.evaluate(test_features, test_labels, verbose=0)\n",
        "print(dnn_model_results)"
      ],
      "metadata": {
        "colab": {
          "base_uri": "https://localhost:8080/"
        },
        "id": "bZpqI5BgXjjz",
        "outputId": "11b0281a-3141-4b5f-c45f-a68e3d0e0b62"
      },
      "execution_count": null,
      "outputs": [
        {
          "output_type": "stream",
          "name": "stdout",
          "text": [
            "0.20780299603939056\n"
          ]
        }
      ]
    },
    {
      "cell_type": "markdown",
      "source": [
        "In below **results** section, we will be predicting collisions with our testing data."
      ],
      "metadata": {
        "id": "W0YtO7J7YLqb"
      }
    },
    {
      "cell_type": "markdown",
      "source": [
        "# Results"
      ],
      "metadata": {
        "id": "IBKvUQhA1dzF"
      }
    },
    {
      "cell_type": "markdown",
      "source": [
        "**Linear Model Prediction**\n",
        "\n",
        "First, we are going to utilize data from linear test csv file and build dataframe for predicting the collisions and see if its closer to the actual values.\n",
        "\n",
        "Below is the screenshot from the test data(https://raw.githubusercontent.com/22017498uhi/22017498_DataAnalytics/main/Assignment_2_lineardata_test.csv).\n",
        "\n",
        "![linear test data.png](data:image/png;base64,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)\n"
      ],
      "metadata": {
        "id": "9FGkdhTkO09d"
      }
    },
    {
      "cell_type": "code",
      "source": [
        "\n",
        "input_linear = pd.DataFrame.from_dict(data = \n",
        "      {\n",
        "          'day' : [2,4,6],\n",
        "          'temp' : [59.4,54,8.1],\n",
        "          'dewp' : [54,26.4,49.2],\n",
        "          'wdsp' : [8.1,7.9,14.5]\n",
        "    })\n",
        "\n",
        "input_linear.head()"
      ],
      "metadata": {
        "colab": {
          "base_uri": "https://localhost:8080/",
          "height": 143
        },
        "id": "-M_5EH_WPYr4",
        "outputId": "f91c37fe-a21f-4012-e2da-4a11119b5f80"
      },
      "execution_count": null,
      "outputs": [
        {
          "output_type": "execute_result",
          "data": {
            "text/plain": [
              "   day  temp  dewp  wdsp\n",
              "0    2  59.4  54.0   8.1\n",
              "1    4  54.0  26.4   7.9\n",
              "2    6   8.1  49.2  14.5"
            ],
            "text/html": [
              "\n",
              "  <div id=\"df-bfe81735-066a-436e-87e3-ccf7d96819bc\">\n",
              "    <div class=\"colab-df-container\">\n",
              "      <div>\n",
              "<style scoped>\n",
              "    .dataframe tbody tr th:only-of-type {\n",
              "        vertical-align: middle;\n",
              "    }\n",
              "\n",
              "    .dataframe tbody tr th {\n",
              "        vertical-align: top;\n",
              "    }\n",
              "\n",
              "    .dataframe thead th {\n",
              "        text-align: right;\n",
              "    }\n",
              "</style>\n",
              "<table border=\"1\" class=\"dataframe\">\n",
              "  <thead>\n",
              "    <tr style=\"text-align: right;\">\n",
              "      <th></th>\n",
              "      <th>day</th>\n",
              "      <th>temp</th>\n",
              "      <th>dewp</th>\n",
              "      <th>wdsp</th>\n",
              "    </tr>\n",
              "  </thead>\n",
              "  <tbody>\n",
              "    <tr>\n",
              "      <th>0</th>\n",
              "      <td>2</td>\n",
              "      <td>59.4</td>\n",
              "      <td>54.0</td>\n",
              "      <td>8.1</td>\n",
              "    </tr>\n",
              "    <tr>\n",
              "      <th>1</th>\n",
              "      <td>4</td>\n",
              "      <td>54.0</td>\n",
              "      <td>26.4</td>\n",
              "      <td>7.9</td>\n",
              "    </tr>\n",
              "    <tr>\n",
              "      <th>2</th>\n",
              "      <td>6</td>\n",
              "      <td>8.1</td>\n",
              "      <td>49.2</td>\n",
              "      <td>14.5</td>\n",
              "    </tr>\n",
              "  </tbody>\n",
              "</table>\n",
              "</div>\n",
              "      <button class=\"colab-df-convert\" onclick=\"convertToInteractive('df-bfe81735-066a-436e-87e3-ccf7d96819bc')\"\n",
              "              title=\"Convert this dataframe to an interactive table.\"\n",
              "              style=\"display:none;\">\n",
              "        \n",
              "  <svg xmlns=\"http://www.w3.org/2000/svg\" height=\"24px\"viewBox=\"0 0 24 24\"\n",
              "       width=\"24px\">\n",
              "    <path d=\"M0 0h24v24H0V0z\" fill=\"none\"/>\n",
              "    <path d=\"M18.56 5.44l.94 2.06.94-2.06 2.06-.94-2.06-.94-.94-2.06-.94 2.06-2.06.94zm-11 1L8.5 8.5l.94-2.06 2.06-.94-2.06-.94L8.5 2.5l-.94 2.06-2.06.94zm10 10l.94 2.06.94-2.06 2.06-.94-2.06-.94-.94-2.06-.94 2.06-2.06.94z\"/><path d=\"M17.41 7.96l-1.37-1.37c-.4-.4-.92-.59-1.43-.59-.52 0-1.04.2-1.43.59L10.3 9.45l-7.72 7.72c-.78.78-.78 2.05 0 2.83L4 21.41c.39.39.9.59 1.41.59.51 0 1.02-.2 1.41-.59l7.78-7.78 2.81-2.81c.8-.78.8-2.07 0-2.86zM5.41 20L4 18.59l7.72-7.72 1.47 1.35L5.41 20z\"/>\n",
              "  </svg>\n",
              "      </button>\n",
              "      \n",
              "  <style>\n",
              "    .colab-df-container {\n",
              "      display:flex;\n",
              "      flex-wrap:wrap;\n",
              "      gap: 12px;\n",
              "    }\n",
              "\n",
              "    .colab-df-convert {\n",
              "      background-color: #E8F0FE;\n",
              "      border: none;\n",
              "      border-radius: 50%;\n",
              "      cursor: pointer;\n",
              "      display: none;\n",
              "      fill: #1967D2;\n",
              "      height: 32px;\n",
              "      padding: 0 0 0 0;\n",
              "      width: 32px;\n",
              "    }\n",
              "\n",
              "    .colab-df-convert:hover {\n",
              "      background-color: #E2EBFA;\n",
              "      box-shadow: 0px 1px 2px rgba(60, 64, 67, 0.3), 0px 1px 3px 1px rgba(60, 64, 67, 0.15);\n",
              "      fill: #174EA6;\n",
              "    }\n",
              "\n",
              "    [theme=dark] .colab-df-convert {\n",
              "      background-color: #3B4455;\n",
              "      fill: #D2E3FC;\n",
              "    }\n",
              "\n",
              "    [theme=dark] .colab-df-convert:hover {\n",
              "      background-color: #434B5C;\n",
              "      box-shadow: 0px 1px 3px 1px rgba(0, 0, 0, 0.15);\n",
              "      filter: drop-shadow(0px 1px 2px rgba(0, 0, 0, 0.3));\n",
              "      fill: #FFFFFF;\n",
              "    }\n",
              "  </style>\n",
              "\n",
              "      <script>\n",
              "        const buttonEl =\n",
              "          document.querySelector('#df-bfe81735-066a-436e-87e3-ccf7d96819bc button.colab-df-convert');\n",
              "        buttonEl.style.display =\n",
              "          google.colab.kernel.accessAllowed ? 'block' : 'none';\n",
              "\n",
              "        async function convertToInteractive(key) {\n",
              "          const element = document.querySelector('#df-bfe81735-066a-436e-87e3-ccf7d96819bc');\n",
              "          const dataTable =\n",
              "            await google.colab.kernel.invokeFunction('convertToInteractive',\n",
              "                                                     [key], {});\n",
              "          if (!dataTable) return;\n",
              "\n",
              "          const docLinkHtml = 'Like what you see? Visit the ' +\n",
              "            '<a target=\"_blank\" href=https://colab.research.google.com/notebooks/data_table.ipynb>data table notebook</a>'\n",
              "            + ' to learn more about interactive tables.';\n",
              "          element.innerHTML = '';\n",
              "          dataTable['output_type'] = 'display_data';\n",
              "          await google.colab.output.renderOutput(dataTable, element);\n",
              "          const docLink = document.createElement('div');\n",
              "          docLink.innerHTML = docLinkHtml;\n",
              "          element.appendChild(docLink);\n",
              "        }\n",
              "      </script>\n",
              "    </div>\n",
              "  </div>\n",
              "  "
            ]
          },
          "metadata": {},
          "execution_count": 33
        }
      ]
    },
    {
      "cell_type": "markdown",
      "source": [
        "Next, we are using the linear model and above test data to make the predictions."
      ],
      "metadata": {
        "id": "qbe3DAsoQsN-"
      }
    },
    {
      "cell_type": "code",
      "source": [
        "# next we are checking the predictions.\n",
        "linear_predictions = collisions_linear_model_final.predict(input_linear[:3])\n",
        "print(linear_predictions)"
      ],
      "metadata": {
        "colab": {
          "base_uri": "https://localhost:8080/"
        },
        "id": "rsPghq_qQlTT",
        "outputId": "9eadedb6-8e15-4185-d717-d37b21df3af9"
      },
      "execution_count": null,
      "outputs": [
        {
          "output_type": "stream",
          "name": "stdout",
          "text": [
            "1/1 [==============================] - 0s 22ms/step\n",
            "[[0.44545022]\n",
            " [0.43958676]\n",
            " [0.8346227 ]]\n"
          ]
        }
      ]
    },
    {
      "cell_type": "markdown",
      "source": [
        "**DNN Model Prediction**\n",
        "\n",
        "We are going to utilize actual data prepared for testing this DNN model. This data is hosted here -> https://raw.githubusercontent.com/22017498uhi/22017498_DataAnalytics/main/Assignment_2_dnndata_test.csv\n",
        "\n",
        "Data looks like below.\n",
        "\n",
        "![dnn test data.png](data:image/png;base64,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)"
      ],
      "metadata": {
        "id": "rXcEWXyPQjGC"
      }
    },
    {
      "cell_type": "markdown",
      "source": [
        "We will use 3 rows from above test data set and make a dataframe for the prediction."
      ],
      "metadata": {
        "id": "WNyXSPx7ZKan"
      }
    },
    {
      "cell_type": "code",
      "source": [
        "# make sure the labels match up with the dataframe from earlier.\n",
        "input_dnn = pd.DataFrame.from_dict(data = \n",
        "\t\t\t\t{\n",
        "         'year' : [2012,2012,2013],\n",
        "         'temp' : [78.5, 73.3, 59.2],\n",
        "         'dewp' : [56.8, 67.2, 50.1],\n",
        "         'wdsp' : [3.5, 3.4, 7.4],\n",
        "         'Sat' : [0,0,1],\n",
        "         'Sun' : [0,0,0],\n",
        "         'Mon' : [1,0,0],\n",
        "         'Tue' : [0,0,0],\n",
        "         'Wed' : [0,0,0],\n",
        "         'Thu' : [0,1,0],\n",
        "         'Fri' : [0,0,0],\n",
        "         'Jan' : [0,0,0],\n",
        "         'Feb' : [0,0,0],\n",
        "         'Mar' : [0,0,0],\n",
        "         'Apr' : [0,0,0],\n",
        "         'May' : [0,0,0],\n",
        "         'Jun' : [0,0,0],\n",
        "         'Jul' : [1,1,0],\n",
        "         'Aug' : [0,0,0],\n",
        "         'Sep' : [0,0,1],\n",
        "         'Oct' : [0,0,0],\n",
        "         'Nov' : [0,0,0],\n",
        "         'Dec' : [0,0,0],\n",
        "        })"
      ],
      "metadata": {
        "id": "9sZJuBxIZ6p-"
      },
      "execution_count": null,
      "outputs": []
    },
    {
      "cell_type": "markdown",
      "source": [
        "Now we will make the prediction using above DNN model and sample data."
      ],
      "metadata": {
        "id": "0-SCDdw0a83G"
      }
    },
    {
      "cell_type": "code",
      "source": [
        "dnn_predictions = dnn_model.predict(input_dnn[:3])\n",
        "dnn_predictions "
      ],
      "metadata": {
        "colab": {
          "base_uri": "https://localhost:8080/"
        },
        "id": "V1VV75qSbAch",
        "outputId": "d72d8ee4-d295-41ad-da5f-629451a4bfd0"
      },
      "execution_count": null,
      "outputs": [
        {
          "output_type": "stream",
          "name": "stdout",
          "text": [
            "1/1 [==============================] - 0s 22ms/step\n"
          ]
        },
        {
          "output_type": "execute_result",
          "data": {
            "text/plain": [
              "array([[0.45603973],\n",
              "       [0.53690755],\n",
              "       [0.5046865 ]], dtype=float32)"
            ]
          },
          "metadata": {},
          "execution_count": 56
        }
      ]
    },
    {
      "cell_type": "markdown",
      "source": [
        "Below are the actual and predicted values.\n",
        "\n",
        "**Actual**  |    **Predicted**\n",
        "\n",
        "0.46  | 0.45\n",
        "\n",
        "0.43  | 0.53\n",
        "\n",
        "0.51  | 0.50     \n",
        "\n",
        "As we can see above, predicted values are much closed to the actual values.\n",
        "\n",
        "But this is heavily dependent on the input data. If we pass any row with temp or wdsp having significant lower or higher values, then predicted value does not match the expectation."
      ],
      "metadata": {
        "id": "lXaXf2SJbo16"
      }
    },
    {
      "cell_type": "markdown",
      "source": [
        "# Conclusions\n",
        "\n",
        "As part of this work, we have built Linear and DNN regression models. It was observed that DNN model seems to make better prediction than linear as it considers month and year into the equation as well.\n",
        "\n",
        "But both models suffer heavily from outliners or data having large variations in input, this is where both models fail to make accurate predictions."
      ],
      "metadata": {
        "id": "ug61Jdbz1fSa"
      }
    },
    {
      "cell_type": "markdown",
      "source": [
        "# References\n",
        "\n",
        "AWS, , What Is Linear Regression?. Available: https://aws.amazon.com/what-is/linear-regression/ [December 14, 2022].\n",
        "\n",
        "\n",
        "PRAKHARR0Y, , Intuition of Adam Optimizer. Available: https://www.geeksforgeeks.org/intuition-of-adam-optimizer/ [December 14, 2022].\n"
      ],
      "metadata": {
        "id": "5JR67nbh1jHd"
      }
    }
  ]
}